{
 "cells": [
  {
   "cell_type": "code",
   "execution_count": 1,
   "id": "08bc4c16-cbdb-4d98-b61a-5b1b1a4315eb",
   "metadata": {},
   "outputs": [
    {
     "ename": "NameError",
     "evalue": "name 'plt' is not defined",
     "output_type": "error",
     "traceback": [
      "\u001b[0;31m---------------------------------------------------------------------------\u001b[0m",
      "\u001b[0;31mNameError\u001b[0m                                 Traceback (most recent call last)",
      "\u001b[0;32m/var/folders/pv/8gt24xkd6y79zx4gv6_8v7t00000gn/T/ipykernel_43348/1477381151.py\u001b[0m in \u001b[0;36m<module>\u001b[0;34m\u001b[0m\n\u001b[1;32m      1\u001b[0m \u001b[0;31m#bacteria abundance at Family level\u001b[0m\u001b[0;34m\u001b[0m\u001b[0;34m\u001b[0m\u001b[0;34m\u001b[0m\u001b[0m\n\u001b[0;32m----> 2\u001b[0;31m \u001b[0mfig\u001b[0m\u001b[0;34m,\u001b[0m \u001b[0max\u001b[0m \u001b[0;34m=\u001b[0m \u001b[0mplt\u001b[0m\u001b[0;34m.\u001b[0m\u001b[0msubplots\u001b[0m\u001b[0;34m(\u001b[0m\u001b[0mfigsize\u001b[0m \u001b[0;34m=\u001b[0m \u001b[0;34m(\u001b[0m\u001b[0;36m9\u001b[0m\u001b[0;34m,\u001b[0m \u001b[0;36m35\u001b[0m\u001b[0;34m)\u001b[0m\u001b[0;34m)\u001b[0m\u001b[0;34m\u001b[0m\u001b[0;34m\u001b[0m\u001b[0m\n\u001b[0m\u001b[1;32m      3\u001b[0m \u001b[0;34m\u001b[0m\u001b[0m\n\u001b[1;32m      4\u001b[0m \u001b[0mPF\u001b[0m \u001b[0;34m=\u001b[0m \u001b[0msns\u001b[0m\u001b[0;34m.\u001b[0m\u001b[0mbarplot\u001b[0m\u001b[0;34m(\u001b[0m\u001b[0my\u001b[0m\u001b[0;34m=\u001b[0m\u001b[0;34m'Genus'\u001b[0m\u001b[0;34m,\u001b[0m \u001b[0mx\u001b[0m\u001b[0;34m=\u001b[0m\u001b[0;34m'TD_ASDdiff'\u001b[0m\u001b[0;34m,\u001b[0m \u001b[0mdata\u001b[0m\u001b[0;34m=\u001b[0m\u001b[0mdf\u001b[0m\u001b[0;34m,\u001b[0m \u001b[0mci\u001b[0m\u001b[0;34m=\u001b[0m\u001b[0;32mNone\u001b[0m\u001b[0;34m)\u001b[0m\u001b[0;34m\u001b[0m\u001b[0;34m\u001b[0m\u001b[0m\n\u001b[1;32m      5\u001b[0m \u001b[0;34m\u001b[0m\u001b[0m\n",
      "\u001b[0;31mNameError\u001b[0m: name 'plt' is not defined"
     ]
    }
   ],
   "source": [
    "#bacteria abundance at Family level\n",
    "fig, ax = plt.subplots(figsize = (9, 35))\n",
    "\n",
    "PF = sns.barplot(y='Genus', x='TD_ASDdiff', data=df, ci=None)\n",
    "\n",
    "# pF = sns.countplot(y='Genus', data=df, hue='Positive',)\n",
    "plt.title('The bacteria abundance in typically developing and ASD groups')\n",
    "plt.ylabel('Genus', fontsize=11)\n",
    "plt.xlabel('Bacteria abundance', fontsize=11)\n",
    "# plt.legend(title=\"Group\", labels=[\"ASD\", \"TD\"], loc='lower right')\n",
    "ax.yaxis.set_tick_params(labelsize='large')\n",
    "plt.show()"
   ]
  },
  {
   "cell_type": "code",
   "execution_count": 2,
   "id": "70d72e56-09b3-46c8-b495-ec63a1a1de42",
   "metadata": {},
   "outputs": [],
   "source": [
    "# dfF = (df.groupby('Family')['TD_ASDdiff'].mean().sort_values(ascending=False).to_frame()\n",
    "#       )\n",
    "# dfF"
   ]
  },
  {
   "cell_type": "code",
   "execution_count": null,
   "id": "8e0765c5-6fc0-453e-804b-c656f023b5e9",
   "metadata": {},
   "outputs": [],
   "source": []
  },
  {
   "cell_type": "markdown",
   "id": "4904ff1a-f1bd-411f-be65-d240b843cac8",
   "metadata": {},
   "source": [
    "At the Family level, family *Bifidobacteriacaea, Verrumoicrobiacaea, Fusobacteriacaea, Neisseriaceae* and *Enterobacteriacaea* were more abundant in ASD group. In TD group, family *Prevotellaceae* and *Bacteroidaceae* were more abundant. "
   ]
  }
 ],
 "metadata": {
  "kernelspec": {
   "display_name": "Python 3 (ipykernel)",
   "language": "python",
   "name": "python3"
  },
  "language_info": {
   "codemirror_mode": {
    "name": "ipython",
    "version": 3
   },
   "file_extension": ".py",
   "mimetype": "text/x-python",
   "name": "python",
   "nbconvert_exporter": "python",
   "pygments_lexer": "ipython3",
   "version": "3.8.5"
  }
 },
 "nbformat": 4,
 "nbformat_minor": 5
}
