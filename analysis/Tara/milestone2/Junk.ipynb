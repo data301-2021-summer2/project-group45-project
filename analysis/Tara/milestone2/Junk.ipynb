{
 "cells": [
  {
   "cell_type": "code",
   "execution_count": 1,
   "id": "08bc4c16-cbdb-4d98-b61a-5b1b1a4315eb",
   "metadata": {},
   "outputs": [
    {
     "ename": "NameError",
     "evalue": "name 'plt' is not defined",
     "output_type": "error",
     "traceback": [
      "\u001b[0;31m---------------------------------------------------------------------------\u001b[0m",
      "\u001b[0;31mNameError\u001b[0m                                 Traceback (most recent call last)",
      "\u001b[0;32m/var/folders/pv/8gt24xkd6y79zx4gv6_8v7t00000gn/T/ipykernel_43348/1477381151.py\u001b[0m in \u001b[0;36m<module>\u001b[0;34m\u001b[0m\n\u001b[1;32m      1\u001b[0m \u001b[0;31m#bacteria abundance at Family level\u001b[0m\u001b[0;34m\u001b[0m\u001b[0;34m\u001b[0m\u001b[0;34m\u001b[0m\u001b[0m\n\u001b[0;32m----> 2\u001b[0;31m \u001b[0mfig\u001b[0m\u001b[0;34m,\u001b[0m \u001b[0max\u001b[0m \u001b[0;34m=\u001b[0m \u001b[0mplt\u001b[0m\u001b[0;34m.\u001b[0m\u001b[0msubplots\u001b[0m\u001b[0;34m(\u001b[0m\u001b[0mfigsize\u001b[0m \u001b[0;34m=\u001b[0m \u001b[0;34m(\u001b[0m\u001b[0;36m9\u001b[0m\u001b[0;34m,\u001b[0m \u001b[0;36m35\u001b[0m\u001b[0;34m)\u001b[0m\u001b[0;34m)\u001b[0m\u001b[0;34m\u001b[0m\u001b[0;34m\u001b[0m\u001b[0m\n\u001b[0m\u001b[1;32m      3\u001b[0m \u001b[0;34m\u001b[0m\u001b[0m\n\u001b[1;32m      4\u001b[0m \u001b[0mPF\u001b[0m \u001b[0;34m=\u001b[0m \u001b[0msns\u001b[0m\u001b[0;34m.\u001b[0m\u001b[0mbarplot\u001b[0m\u001b[0;34m(\u001b[0m\u001b[0my\u001b[0m\u001b[0;34m=\u001b[0m\u001b[0;34m'Genus'\u001b[0m\u001b[0;34m,\u001b[0m \u001b[0mx\u001b[0m\u001b[0;34m=\u001b[0m\u001b[0;34m'TD_ASDdiff'\u001b[0m\u001b[0;34m,\u001b[0m \u001b[0mdata\u001b[0m\u001b[0;34m=\u001b[0m\u001b[0mdf\u001b[0m\u001b[0;34m,\u001b[0m \u001b[0mci\u001b[0m\u001b[0;34m=\u001b[0m\u001b[0;32mNone\u001b[0m\u001b[0;34m)\u001b[0m\u001b[0;34m\u001b[0m\u001b[0;34m\u001b[0m\u001b[0m\n\u001b[1;32m      5\u001b[0m \u001b[0;34m\u001b[0m\u001b[0m\n",
      "\u001b[0;31mNameError\u001b[0m: name 'plt' is not defined"
     ]
    }
   ],
   "source": [
    "#bacteria abundance at Family level\n",
    "fig, ax = plt.subplots(figsize = (9, 35))\n",
    "\n",
    "PF = sns.barplot(y='Genus', x='TD_ASDdiff', data=df, ci=None)\n",
    "\n",
    "# pF = sns.countplot(y='Genus', data=df, hue='Positive',)\n",
    "plt.title('The bacteria abundance in typically developing and ASD groups')\n",
    "plt.ylabel('Genus', fontsize=11)\n",
    "plt.xlabel('Bacteria abundance', fontsize=11)\n",
    "# plt.legend(title=\"Group\", labels=[\"ASD\", \"TD\"], loc='lower right')\n",
    "ax.yaxis.set_tick_params(labelsize='large')\n",
    "plt.show()"
   ]
  },
  {
   "cell_type": "code",
   "execution_count": 2,
   "id": "70d72e56-09b3-46c8-b495-ec63a1a1de42",
   "metadata": {},
   "outputs": [],
   "source": [
    "# dfF = (df.groupby('Family')['TD_ASDdiff'].mean().sort_values(ascending=False).to_frame()\n",
    "#       )\n",
    "# dfF"
   ]
  },
  {
   "cell_type": "code",
   "execution_count": null,
   "id": "8e0765c5-6fc0-453e-804b-c656f023b5e9",
   "metadata": {},
   "outputs": [],
   "source": []
  },
  {
   "cell_type": "markdown",
   "id": "4904ff1a-f1bd-411f-be65-d240b843cac8",
   "metadata": {},
   "source": [
    "At the Family level, family *Bifidobacteriacaea, Verrumoicrobiacaea, Fusobacteriacaea, Neisseriaceae* and *Enterobacteriacaea* were more abundant in ASD group. In TD group, family *Prevotellaceae* and *Bacteroidaceae* were more abundant. "
   ]
  },
  {
   "cell_type": "code",
   "execution_count": 1,
   "id": "6e676035-dda1-444e-8a18-640950ebf4ad",
   "metadata": {},
   "outputs": [
    {
     "ename": "SyntaxError",
     "evalue": "invalid syntax (2352168005.py, line 1)",
     "output_type": "error",
     "traceback": [
      "\u001b[0;36m  File \u001b[0;32m\"/var/folders/pv/8gt24xkd6y79zx4gv6_8v7t00000gn/T/ipykernel_4066/2352168005.py\"\u001b[0;36m, line \u001b[0;32m1\u001b[0m\n\u001b[0;31m    At phylum level\u001b[0m\n\u001b[0m       ^\u001b[0m\n\u001b[0;31mSyntaxError\u001b[0m\u001b[0;31m:\u001b[0m invalid syntax\n"
     ]
    }
   ],
   "source": [
    "#At phylum level\n",
    "\n",
    "# sns.barplot(x='TD_ASDdiff', y='Phylum', data =df, ci=None, hue=[\"b\" if y not in ['Bacteroidetes', 'Synergistetes'] else \"r\" for y in df.Phylum])\n",
    "# plt.title('The bacteria abundance in TD and ASD group without Error bars')\n",
    "# plt.ylabel('Bacteria Phylum')\n",
    "# plt.xlabel('Bacteria abundance')\n",
    "# plt.legend(title=\"Group\", labels=[\"ASD\"])\n",
    "# ax.yaxis.set_tick_params(labelsize='large')\n",
    "\n",
    "# plt.show()\n",
    "\n",
    "# pt1 = sns.countplot(y='Phylum', data=df, hue='Positive')\n",
    "# plt.title('Countplot of Bacteria abundance at the Phylum level', fontsize=11)\n",
    "# plt.xlabel('Abundance', fontsize=11)\n",
    "# plt.ylabel('Phylum', fontsize=11)\n",
    "# plt.legend(title=\"Group\", labels=[\"ASD\", \"TD\"])\n",
    "# ax.yaxis.set_tick_params(labelsize='large')\n",
    "\n",
    "# plt.show()\n",
    "\n",
    "# b1 = sns.barplot(x='Phylum', y='ASDmean', data=df, ci=None, color='lightblue') #order=df.sort_values('Phylum', ascending=False).ASDmean)\n",
    "# b2= sns.barplot(x='Phylum', y='TDmean', data=df, ci=None, color='salmon', ) #order=df.sort_values('Phylum', ascending=False).TDmean)\n",
    "# locs, labels = plt.xticks()\n",
    "# plt.setp(labels, rotation=45, fontsize='large')\n",
    "# plt.xlabel('Phylum', fontsize=11)\n",
    "# plt.ylabel('Abundance', fontsize=11)\n",
    "# top_bar = mpatches.Patch(color=\"lightblue\", label='ASD')\n",
    "# bottom_bar = mpatches.Patch(color='salmon', label='TD')\n",
    "# plt.legend(handles=[top_bar, bottom_bar])\n",
    "\n",
    "# plt.show()\n",
    "\n"
   ]
  },
  {
   "cell_type": "markdown",
   "id": "2481e5d5-597b-4b5a-9b69-65734680491a",
   "metadata": {},
   "source": [
    "At the phylum level, Verrucommicrobial, Actinobacteria and Fusobacteria are more abundant in ASD group while Bacteroidetes is more abundant in TD group. "
   ]
  },
  {
   "cell_type": "code",
   "execution_count": 2,
   "id": "102ade68-a97a-448c-b0b9-75383d94d88f",
   "metadata": {},
   "outputs": [],
   "source": [
    "# at class\n",
    "# dfC = (df.groupby('Class')['TD_ASDdiff'].mean().sort_values(ascending=False).to_frame()\n",
    "#       )\n",
    "# dfC"
   ]
  },
  {
   "cell_type": "code",
   "execution_count": 4,
   "id": "f5c1ab9e-bb91-4294-8215-192761d116d4",
   "metadata": {},
   "outputs": [],
   "source": [
    "#plotting data at class level\n",
    "\n",
    "# fig, ax = plt.subplots(figsize = (9, 7))\n",
    "\n",
    "# pC = sns.barplot(y='Class', x='TD_ASDdiff', data=df, ci=None,\n",
    "#                  hue=[\"b\" if y not in ['Bacteroidia','Deltaproteobacteria', 'Synergistia', 'Alphaproteobacteria'] else \"r\" for y in df.Class])\n",
    "# plt.title('The bacteria abundance in TD and ASD group')\n",
    "# plt.ylabel('Bacteria Class')\n",
    "# plt.xlabel('Bacteria abundance')\n",
    "# plt.legend(title=\"Group\", labels=[\"TD\", \"ASD\"], loc='lower right')\n",
    "# ax.yaxis.set_tick_params(labelsize='large')\n",
    "\n",
    "# plt.show() \n",
    "\n",
    "#stacked plot\n",
    "\n",
    "# fig, ax = plt.subplots(figsize = (10, 7))\n",
    "\n",
    "# b1 = sns.barplot(y='Class', x='ASDmean', data=df, ci=None, color='lightblue')\n",
    "# b2= sns.barplot(y='Class', x='TDmean', data=df, ci=None, color='salmon')\n",
    "\n",
    "# locs, labels = plt.xticks()\n",
    "# plt.setp(labels, rotation=45, fontsize='large')\n",
    "# plt.xlabel('Abundance', fontsize=11)\n",
    "# plt.ylabel('Class', fontsize=11)\n",
    "# top_bar = mpatches.Patch(color=\"lightblue\", label='ASD')\n",
    "# bottom_bar = mpatches.Patch(color='salmon', label='TD')\n",
    "# plt.legend(handles=[top_bar, bottom_bar])\n",
    "# plt.show()"
   ]
  },
  {
   "cell_type": "code",
   "execution_count": 5,
   "id": "629a2d92-affb-4ec4-803b-5887997528ba",
   "metadata": {},
   "outputs": [],
   "source": [
    "# another way to do a stacked plot at class\n",
    "\n",
    "# sns.set_color_codes(\"pastel\")\n",
    "# sns.barplot(y=\"Class\", x=\"ASDmean\", data=df,\n",
    "#             label=\"ASD\", color=\"b\", ci=None)\n",
    "\n",
    "# sns.set_color_codes(\"muted\")\n",
    "# sns.barplot(y=\"Class\", x=\"TDmean\", data=df,\n",
    "#             label=\"TD\", color=\"b\", ci=None)\n",
    "\n",
    "\n",
    "# plt.legend(ncol=2, loc=\"lower right\", frameon=True)\n",
    "# ax.set(xlim=(0, 240), ylabel=\"\",\n",
    "#        xlabel=\"Bacteria abundance at phylum level\")\n",
    "# sns.despine(left=True, bottom=True)"
   ]
  },
  {
   "cell_type": "markdown",
   "id": "50887189-4ed4-4185-99be-6a19870b1e82",
   "metadata": {},
   "source": [
    "At the class level, Verrucomicrobiae, Actinobacteria, Fusobacteria and Gammaproteobacteria were more abundant in ASD group while Bacteroidia was more abundant in TD group."
   ]
  },
  {
   "cell_type": "code",
   "execution_count": 6,
   "id": "608723eb-b5b3-420b-8ab9-f28bc20a5e3a",
   "metadata": {},
   "outputs": [],
   "source": [
    "# at order \n",
    "# dfO = (df.groupby('Order')['TD_ASDdiff'].mean().sort_values(ascending=False).to_frame()\n",
    "#       )\n",
    "# dfO"
   ]
  },
  {
   "cell_type": "code",
   "execution_count": 7,
   "id": "18edb70b-77c8-45bb-bf92-a838c0913da5",
   "metadata": {},
   "outputs": [],
   "source": [
    "#bacteria abundance at Order\n",
    "# fig, ax = plt.subplots(figsize = (8, 7))\n",
    "\n",
    "# sns.barplot(x='TD_ASDdiff', y='Order', data =df, ci=None)\n",
    "\n",
    "# #this graph doesn't mactched the dataframe above... and same for all fo the graphs below\n",
    "\n",
    "# # pO = sns.countplot(y='Order', data=df, hue='Positive')\n",
    "\n",
    "# plt.title('The bacteria abundance in TD and ASD group')\n",
    "# plt.ylabel('Order', fontsize=11)\n",
    "# plt.xlabel('Abundance', fontsize=11)\n",
    "# # plt.legend(title=\"Group\", labels=[\"ASD\", \"TD\"], loc='lower right')\n",
    "# ax.yaxis.set_tick_params(labelsize='large')\n",
    "# plt.show()"
   ]
  },
  {
   "cell_type": "code",
   "execution_count": 8,
   "id": "e572f484-9906-4a59-81d7-7a6e35be0ca9",
   "metadata": {},
   "outputs": [],
   "source": [
    "#stacked plot at order\n",
    "# fig, ax = plt.subplots(figsize = (8, 8))\n",
    "\n",
    "# b1 = sns.barplot(y='Order', x='ASDmean', data=df, ci=None, color='lightblue')\n",
    "# b2= sns.barplot(y='Order', x='TDmean', data=df, ci=None, color='salmon')\n",
    "\n",
    "# locs, labels = plt.xticks()\n",
    "# plt.setp(labels, rotation=45, fontsize='large')\n",
    "# plt.xlabel('Abundance', fontsize=11)\n",
    "# plt.ylabel('Order', fontsize=11)\n",
    "# top_bar = mpatches.Patch(color=\"lightblue\", label='ASD')\n",
    "# bottom_bar = mpatches.Patch(color='salmon', label='TD')\n",
    "# plt.legend(handles=[top_bar, bottom_bar])\n",
    "# ax.yaxis.set_tick_params(labelsize='large')\n",
    "# plt.show()"
   ]
  },
  {
   "cell_type": "markdown",
   "id": "182f5aec-bf7b-494b-8d8e-733a73109020",
   "metadata": {},
   "source": [
    "At the Order level, order Bifidobacteriales(class actinobacteria), Verrucomicrobiales, Fusobacteriales, Neisseriales (class betaproteoabcteria) and Enterobacteriales were more abundant in ASD group, while Bacteroidales was more abundant in TD group. "
   ]
  },
  {
   "cell_type": "code",
   "execution_count": 9,
   "id": "b7366185-0d14-4d2f-a2f7-f6d9c622bc35",
   "metadata": {},
   "outputs": [],
   "source": [
    "#plot showing the bacteria abundance in ASD and TD individuals at phylum.\n",
    "\n",
    "#this graph does work (right size label with wrong color)\n",
    "\n",
    "# sns.barplot(x='TD_ASDdiff', y='Phylum', data =df, ci=None,palette = ['lightsalmon', 'lightseagreen'])\n",
    "# plt.title('The bacteria abundance in TD and ASD group')\n",
    "# plt.ylabel('Bacteria Phylum')\n",
    "# plt.xlabel('Bacteria abundance')\n",
    "# ax.yaxis.set_tick_params(labelsize='large')\n",
    "\n",
    "# plt.show()"
   ]
  },
  {
   "cell_type": "code",
   "execution_count": 11,
   "id": "ce4df358-ce30-43f0-af7b-79a3e6bf0a13",
   "metadata": {},
   "outputs": [],
   "source": [
    "#td and asdmean at genus--shows repeated genera on graph (probably belongs to different species)\n",
    "\n",
    "# fig, ax = plt.subplots(figsize = (9, 25))\n",
    "# b1 = sns.barplot(y='Genus', x='ASDmean', data=df, ci=None, color='lightsalmon', \n",
    "#                  order=df.sort_values('ASDmean', ascending = True).Genus)\n",
    "# b2= sns.barplot(y='Genus', x='TDmean', data=df, ci=None, color='lightseagreen', \n",
    "#                 order=df.sort_values('TDmean', ascending=False).Genus)\n",
    "\n",
    "# locs, labels = plt.xticks()\n",
    "# plt.setp(labels, rotation=45, fontsize='large')\n",
    "# plt.title('The mean bacteria abundance of Typically Deveoping group and ASD group at the genus level', fontsize=13)\n",
    "# plt.xlabel('Abundance', fontsize=11)\n",
    "# plt.ylabel('Genus', fontsize=11)\n",
    "# top_bar = mpatches.Patch(color='lightsalmon', label='ASD')\n",
    "# bottom_bar = mpatches.Patch(color='lightseagreen', label='TD')\n",
    "# plt.legend(handles=[top_bar, bottom_bar])\n",
    "# ax.yaxis.set_tick_params(labelsize='medium')\n",
    "# ax.xaxis.set_tick_params(labelsize='medium')\n",
    "# plt.show()"
   ]
  },
  {
   "cell_type": "code",
   "execution_count": 12,
   "id": "1a53c4f8-89e9-4d32-9d7e-e9396969fe75",
   "metadata": {},
   "outputs": [],
   "source": [
    "\n",
    "#trying to drop the all the outliers but it didn't work\n",
    "\n",
    "# df[(np.abs(stats.zscore(df)) < 3).all(axis=1)]\n",
    "# df[np.abs(df.Data-df.Data.mean()) <= (3*df.Data.std())]\n",
    "\n",
    "# q = df[\"col\"].quantile(0.99)\n",
    "# df = df[df.between(df.quantile(.15), df.quantile(.85))]\n",
    "\n",
    "# def drop_numerical_outliers(df, z_thresh=3):\n",
    "#     # Constrains will contain `True` or `False` depending on if it is a value below the threshold.\n",
    "#     constrains = df.select_dtypes(include=[np.number]) \\\n",
    "#         .apply(lambda x: np.abs(stats.zscore(x)) < z_thresh, reduce=False) \\\n",
    "#         .all(axis=1)\n",
    "#     # Drop (inplace) values set to be rejected\n",
    "#     df.drop(df.index[~constrains], inplace=True)\n",
    "    \n",
    "    \n",
    "# drop_numerical_outliers(df)"
   ]
  },
  {
   "cell_type": "code",
   "execution_count": 13,
   "id": "9f16ec5e-aa35-4113-89d5-6d1299b53781",
   "metadata": {},
   "outputs": [],
   "source": [
    "#trying to make the neg values in red in pos in green\n",
    "\n",
    "# def bar_color(df,color1,color2):\n",
    "#     return np.where(df.TD_ASDdiff>0,color1,color2).T\n",
    "\n",
    "# df.TD_ASDdiff.plot.barh(color=bar_color(df.TD_ASDdiff, 'r', 'g'))"
   ]
  },
  {
   "cell_type": "code",
   "execution_count": 14,
   "id": "7170571e-f7ee-4b96-b3d1-5a0420b21af8",
   "metadata": {},
   "outputs": [],
   "source": [
    "#trying to create a custom palette for the horizontal bar graph\n",
    "\n",
    "# custom_palette = {}\n",
    "# for q in df.TD_ASDdiff:\n",
    "#     avr = df[df.TD_ASDdiff == q].Positive\n",
    "#     if avr.where(df['TD_ASDdiff']) == 1:\n",
    "#         custom_palette[q] = 'r'\n",
    "#     else :\n",
    "#         custom_palette[q] = 'y'"
   ]
  },
  {
   "cell_type": "code",
   "execution_count": null,
   "id": "855b9bd6-1b49-4efc-b8e8-85d9219679a3",
   "metadata": {},
   "outputs": [],
   "source": []
  }
 ],
 "metadata": {
  "kernelspec": {
   "display_name": "Python 3 (ipykernel)",
   "language": "python",
   "name": "python3"
  },
  "language_info": {
   "codemirror_mode": {
    "name": "ipython",
    "version": 3
   },
   "file_extension": ".py",
   "mimetype": "text/x-python",
   "name": "python",
   "nbconvert_exporter": "python",
   "pygments_lexer": "ipython3",
   "version": "3.8.5"
  }
 },
 "nbformat": 4,
 "nbformat_minor": 5
}
